{
 "cells": [
  {
   "cell_type": "markdown",
   "id": "fb3f5887",
   "metadata": {},
   "source": [
    "# PhishScore Analyzer: Detecting Anomalies and Analyzing Patterns in Phishing Data by Professor Daniel Wanjala Machimbo\n",
    "\n",
    "## Introduction\n",
    "In this project, we will perform an analysis on a CSV file containing data with the following columns: date, score, URL, and IP. The goal is to gain insights and extract useful information from the provided dataset. We will use Python and various libraries such as pandas, matplotlib, seaborn, and geopandas to load, analyze, and visualize the data.\n",
    "\n",
    "## Dataset Description\n",
    "The CSV file contains the following columns:\n",
    "\n",
    "- **Date**: Represents the date and time of the entry.\n",
    "- **Score**: Indicates the score associated with each entry.\n",
    "- **URL**: Represents the URL associated with the entry.\n",
    "- **IP**: Represents the IP address associated with the entry.\n",
    "\n",
    "## Analysis Steps\n",
    "We will perform the following analyses on the dataset:\n",
    "\n",
    "1. **Time-based Analysis**: We will explore trends and patterns over time by analyzing the date column. This includes plotting scores over time, calculating average scores for different time intervals, and identifying the busiest time periods.\n",
    "\n",
    "2. **Score Analysis**: We will analyze the score column to understand the distribution of scores and calculate basic statistical measures. This will involve creating histograms and box plots to visualize the score distribution and identify any outliers or unusual patterns.\n",
    "\n",
    "3. **URL Analysis**: We will analyze the URL column to determine the most frequent URLs, categorize URLs based on patterns or keywords, and gain insights into website visits and domains.\n",
    "\n",
    "4. **IP Analysis**: We will analyze the IP column to perform geolocation analysis, identify the geographic distribution of IP addresses, and gain insights into user behavior or traffic patterns.\n",
    "\n",
    "5. **Anomaly Detection**: Apply anomaly detection algorithms to identify any unusual patterns or outliers in the scores, URLs, or IP addresses. Detect any unexpected deviations from the normal distribution or behavior.\n",
    "\n",
    "## Conclusion\n",
    "By conducting these analyses, we aim to uncover valuable insights and patterns in the dataset. These findings can provide a deeper understanding of the data and assist in making informed decisions or recommendations based on the analyzed information."
   ]
  },
  {
   "cell_type": "code",
   "execution_count": 29,
   "id": "52de9a39",
   "metadata": {},
   "outputs": [
    {
     "data": {
      "text/html": [
       "<div>\n",
       "<style scoped>\n",
       "    .dataframe tbody tr th:only-of-type {\n",
       "        vertical-align: middle;\n",
       "    }\n",
       "\n",
       "    .dataframe tbody tr th {\n",
       "        vertical-align: top;\n",
       "    }\n",
       "\n",
       "    .dataframe thead th {\n",
       "        text-align: right;\n",
       "    }\n",
       "</style>\n",
       "<table border=\"1\" class=\"dataframe\">\n",
       "  <thead>\n",
       "    <tr style=\"text-align: right;\">\n",
       "      <th></th>\n",
       "      <th>date</th>\n",
       "      <th>Score</th>\n",
       "      <th>url</th>\n",
       "      <th>ip</th>\n",
       "    </tr>\n",
       "  </thead>\n",
       "  <tbody>\n",
       "    <tr>\n",
       "      <th>0</th>\n",
       "      <td>6/23/23 8:45 PM</td>\n",
       "      <td>6.4</td>\n",
       "      <td>https://bafybeibarm67yws7kdci3zzevh4lkdc2cyqlt...</td>\n",
       "      <td>104.18.23.52</td>\n",
       "    </tr>\n",
       "    <tr>\n",
       "      <th>1</th>\n",
       "      <td>6/23/23 8:45 PM</td>\n",
       "      <td>6.5</td>\n",
       "      <td>https://azbyamazon.top/</td>\n",
       "      <td>2606:4700:3032::ac43:c58f</td>\n",
       "    </tr>\n",
       "    <tr>\n",
       "      <th>2</th>\n",
       "      <td>6/23/23 8:45 PM</td>\n",
       "      <td>2.7</td>\n",
       "      <td>https://axoscrypto-bk.com/signin</td>\n",
       "      <td>148.163.124.13</td>\n",
       "    </tr>\n",
       "    <tr>\n",
       "      <th>3</th>\n",
       "      <td>6/23/23 8:45 PM</td>\n",
       "      <td>3.7</td>\n",
       "      <td>https://awsappsdk.com/irs/stimulus/Stimulus.html</td>\n",
       "      <td>198.12.217.39</td>\n",
       "    </tr>\n",
       "    <tr>\n",
       "      <th>4</th>\n",
       "      <td>6/23/23 8:45 PM</td>\n",
       "      <td>7.8</td>\n",
       "      <td>https://apple-activation-portal-online.com/go....</td>\n",
       "      <td>190.14.39.96</td>\n",
       "    </tr>\n",
       "  </tbody>\n",
       "</table>\n",
       "</div>"
      ],
      "text/plain": [
       "              date  Score                                                url  \\\n",
       "0  6/23/23 8:45 PM    6.4  https://bafybeibarm67yws7kdci3zzevh4lkdc2cyqlt...   \n",
       "1  6/23/23 8:45 PM    6.5                            https://azbyamazon.top/   \n",
       "2  6/23/23 8:45 PM    2.7                   https://axoscrypto-bk.com/signin   \n",
       "3  6/23/23 8:45 PM    3.7   https://awsappsdk.com/irs/stimulus/Stimulus.html   \n",
       "4  6/23/23 8:45 PM    7.8  https://apple-activation-portal-online.com/go....   \n",
       "\n",
       "                          ip  \n",
       "0               104.18.23.52  \n",
       "1  2606:4700:3032::ac43:c58f  \n",
       "2             148.163.124.13  \n",
       "3              198.12.217.39  \n",
       "4               190.14.39.96  "
      ]
     },
     "execution_count": 29,
     "metadata": {},
     "output_type": "execute_result"
    }
   ],
   "source": [
    "import pandas as pd\n",
    "\n",
    "# Load the CSV file into a DataFrame\n",
    "data = pd.read_csv('phish_score.csv')\n",
    "\n",
    "# Display the first few rows of the DataFrame to verify the data\n",
    "data.head()"
   ]
  },
  {
   "cell_type": "markdown",
   "id": "7fcbdd20",
   "metadata": {},
   "source": [
    "# Time-based Analysis: \n",
    " We will explore trends and patterns over time by analyzing the date column. This includes plotting scores over time, calculating average scores for different time intervals, and identifying the busiest time periods."
   ]
  },
  {
   "cell_type": "code",
   "execution_count": 30,
   "id": "bc4746b1",
   "metadata": {},
   "outputs": [
    {
     "data": {
      "image/png": "[encoded data removed]",
      "text/plain": [
       "<Figure size 1000x600 with 1 Axes>"
      ]
     },
     "metadata": {},
     "output_type": "display_data"
    },
    {
     "data": {
      "image/png": "[encoded data removed]",
      "text/plain": [
       "<Figure size 1000x600 with 1 Axes>"
      ]
     },
     "metadata": {},
     "output_type": "display_data"
    }
   ],
   "source": [
    "import pandas as pd\n",
    "import matplotlib.pyplot as plt\n",
    "\n",
    "# Load the CSV file into a DataFrame\n",
    "data = pd.read_csv('phish_score.csv')\n",
    "\n",
    "# Convert the 'date' column to datetime data type\n",
    "data['date'] = pd.to_datetime(data['date'])\n",
    "\n",
    "# Plot scores over time\n",
    "plt.figure(figsize=(10, 6))\n",
    "plt.plot(data['date'], data['Score'])\n",
    "plt.xlabel('Date')\n",
    "plt.ylabel('Score')\n",
    "plt.title('Scores Over Time')\n",
    "plt.show()\n",
    "\n",
    "# Calculate average scores for different time intervals (e.g., daily, weekly)\n",
    "daily_average = data.resample('D', on='date').mean()  # Daily average scores\n",
    "\n",
    "# Plot average scores over time\n",
    "plt.figure(figsize=(10, 6))\n",
    "plt.plot(daily_average.index, daily_average['Score'])\n",
    "plt.xlabel('Date')\n",
    "plt.ylabel('Average Score')\n",
    "plt.title('Average Scores Over Time (Daily)')\n",
    "plt.show()"
   ]
  },
  {
   "cell_type": "markdown",
   "id": "683368b9",
   "metadata": {},
   "source": [
    "## Time-based Analysis\n",
    "\n",
    "To understand trends and patterns over time, we conducted a time-based analysis using the \"date\" column. We plotted the scores over time and calculated the average scores for different time intervals.\n",
    "\n",
    "Let's explore the findings:\n",
    "\n",
    "### Scores Over Time\n",
    "\n",
    "To visualize the scores over time, we plotted a line graph using the \"date\" and \"Score\" columns. This plot provides an overview of the score fluctuations throughout the recorded period.\n",
    "\n",
    "```python\n",
    "import pandas as pd\n",
    "import matplotlib.pyplot as plt\n",
    "\n",
    "# Load the CSV file into a DataFrame\n",
    "data = pd.read_csv('phish_score.csv')\n",
    "\n",
    "# Convert the 'date' column to datetime data type\n",
    "data['date'] = pd.to_datetime(data['date'])\n",
    "\n",
    "# Plot scores over time\n",
    "plt.figure(figsize=(10, 6))\n",
    "plt.plot(data['date'], data['Score'])\n",
    "plt.xlabel('Date')\n",
    "plt.ylabel('Score')\n",
    "plt.title('Scores Over Time')\n",
    "plt.show()\n"
   ]
  },
  {
   "cell_type": "markdown",
   "id": "69aaf484",
   "metadata": {},
   "source": [
    "### Average scores over time on a daily basis.\n",
    "The second plot displays the average scores over time on a daily basis. This visualization provides insights into the overall trend of scores, highlighting any variations or patterns that may exist.\n",
    "\n",
    "These time-based analyses enable us to gain a better understanding of how the scores evolve over time and identify any significant periods or fluctuations that may require further investigation."
   ]
  },
  {
   "cell_type": "markdown",
   "id": "4ebad952",
   "metadata": {},
   "source": [
    "  "
   ]
  },
  {
   "cell_type": "markdown",
   "id": "4aaa3b55",
   "metadata": {},
   "source": [
    "## Score Analysis: \n",
    "We will analyze the score column to understand the distribution of scores and calculate basic statistical measures. This will involve creating histograms and box plots to visualize the score distribution and identify any outliers or unusual patterns."
   ]
  },
  {
   "cell_type": "code",
   "execution_count": 31,
   "id": "4fcad109",
   "metadata": {},
   "outputs": [
    {
     "name": "stdout",
     "output_type": "stream",
     "text": [
      "count    52728.000000\n",
      "mean         4.394978\n",
      "std          1.593340\n",
      "min          1.000000\n",
      "25%          3.100000\n",
      "50%          4.400000\n",
      "75%          5.700000\n",
      "max          8.800000\n",
      "Name: Score, dtype: float64\n"
     ]
    },
    {
     "data": {
      "image/png": "[encoded data removed]",
      "text/plain": [
       "<Figure size 1000x600 with 1 Axes>"
      ]
     },
     "metadata": {},
     "output_type": "display_data"
    },
    {
     "data": {
      "image/png": "[encoded data removed]",
      "text/plain": [
       "<Figure size 1000x600 with 1 Axes>"
      ]
     },
     "metadata": {},
     "output_type": "display_data"
    }
   ],
   "source": [
    "import pandas as pd\n",
    "import seaborn as sns\n",
    "import matplotlib.pyplot as plt\n",
    "\n",
    "# Load the CSV file into a DataFrame\n",
    "data = pd.read_csv('phish_score.csv')\n",
    "\n",
    "# Basic statistics of the 'Score' column\n",
    "score_stats = data['Score'].describe()\n",
    "\n",
    "# Print the statistics\n",
    "print(score_stats)\n",
    "\n",
    "# Histogram of scores\n",
    "plt.figure(figsize=(10, 6))\n",
    "sns.histplot(data['Score'], kde=True)\n",
    "plt.xlabel('Score')\n",
    "plt.ylabel('Frequency')\n",
    "plt.title('Distribution of Scores')\n",
    "plt.show()\n",
    "\n",
    "# Box plot of scores\n",
    "plt.figure(figsize=(10, 6))\n",
    "sns.boxplot(data['Score'])\n",
    "plt.xlabel('Score')\n",
    "plt.title('Box Plot of Scores')\n",
    "plt.show()\n"
   ]
  },
  {
   "cell_type": "markdown",
   "id": "431eb1ab",
   "metadata": {},
   "source": [
    "## Score Analysis\n",
    "\n",
    "In this step, we analyzed the 'Score' column to understand the distribution of scores and calculate basic statistical measures. This analysis helps us gain insights into the scores and identify any outliers or unusual patterns.\n",
    "\n",
    "Let's explore the findings:\n",
    "\n",
    "### Basic Statistical Measures\n",
    "\n",
    "To begin, we calculated basic statistical measures of the 'Score' column using the `describe()` function. This provides us with key statistics such as count, mean, standard deviation, minimum, maximum, and quartiles.\n",
    "\n",
    "```python\n",
    "import pandas as pd\n",
    "\n",
    "# Load the CSV file into a DataFrame\n",
    "data = pd.read_csv('phish_score.csv')\n",
    "\n",
    "# Basic statistics of the 'Score' column\n",
    "score_stats = data['Score'].describe()\n",
    "\n",
    "# Print the statistics\n",
    "print(score_stats)\n"
   ]
  },
  {
   "cell_type": "markdown",
   "id": "724f9301",
   "metadata": {},
   "source": [
    "By executing this code, we obtain a summary of the statistics, including the count of scores, the mean score, the standard deviation, and the quartiles. These measures offer a comprehensive understanding of the distribution of scores."
   ]
  },
  {
   "cell_type": "markdown",
   "id": "56e65e30",
   "metadata": {},
   "source": [
    "## Distribution of Scores (Histogram)\n",
    "To visualize the distribution of scores, we created a histogram using the seaborn library. The histogram displays the frequency or count of scores within specific intervals, providing an overview of the score distribution.\n",
    "\n",
    "```python\n",
    "import seaborn as sns\n",
    "import matplotlib.pyplot as plt\n",
    "\n",
    "# Histogram of scores\n",
    "plt.figure(figsize=(10, 6))\n",
    "sns.histplot(data['Score'], kde=True)\n",
    "plt.xlabel('Score')\n",
    "plt.ylabel('Frequency')\n",
    "plt.title('Distribution of Scores')\n",
    "plt.show()\n"
   ]
  },
  {
   "cell_type": "markdown",
   "id": "94b90f45",
   "metadata": {},
   "source": [
    "The generated histogram plot showcases the shape of the score distribution and allows us to observe any potential patterns or concentration of scores. The presence of multiple peaks or skewedness may indicate interesting characteristics in the data."
   ]
  },
  {
   "cell_type": "markdown",
   "id": "a0b95898",
   "metadata": {},
   "source": [
    "## Statistical Summary of Scores (Box Plot)\n",
    "Additionally, we employed a box plot to visualize the statistical summary of the scores. The box plot displays the median, quartiles, and potential outliers, providing a concise summary of the score distribution.\n",
    "\n",
    "```python\n",
    "import seaborn as sns\n",
    "import matplotlib.pyplot as plt\n",
    "\n",
    "# Box plot of scores\n",
    "plt.figure(figsize=(10, 6))\n",
    "sns.boxplot(data['Score'])\n",
    "plt.xlabel('Score')\n",
    "plt.title('Box Plot of Scores')\n",
    "plt.show()\n"
   ]
  },
  {
   "cell_type": "markdown",
   "id": "7c610f49",
   "metadata": {},
   "source": [
    "The box plot provides a visual representation of the spread and central tendency of the scores. The presence of outliers, indicated by points beyond the whiskers, may suggest unusual or extreme values.\n",
    "\n",
    "By conducting this score analysis, we gain insights into the distribution, variability, and potential outliers or unusual patterns within the scores.\n",
    "\n",
    "Feel free to customize the code or adjust the plot settings to suit your specific analysis requirements."
   ]
  },
  {
   "cell_type": "markdown",
   "id": "4020b2dd",
   "metadata": {},
   "source": [
    "## URL Analysis: \n",
    "We will analyze the URL column to determine the most frequent URLs, categorize URLs based on patterns or keywords, and gain insights into website visits and domains."
   ]
  },
  {
   "cell_type": "code",
   "execution_count": 32,
   "id": "e347e7fc",
   "metadata": {},
   "outputs": [
    {
     "data": {
      "image/png": "[encoded data removed]",
      "text/plain": [
       "<Figure size 1000x600 with 1 Axes>"
      ]
     },
     "metadata": {},
     "output_type": "display_data"
    },
    {
     "data": {
      "image/png": "[encoded data removed]",
      "text/plain": [
       "<Figure size 1000x600 with 1 Axes>"
      ]
     },
     "metadata": {},
     "output_type": "display_data"
    }
   ],
   "source": [
    "import pandas as pd\n",
    "import matplotlib.pyplot as plt\n",
    "import re\n",
    "\n",
    "# Load the CSV file into a DataFrame\n",
    "data = pd.read_csv('phish_score.csv')\n",
    "\n",
    "# Extract domain from URL\n",
    "data['Domain'] = data['url'].apply(lambda url: re.findall(r'^(?:https?:\\/\\/)?(?:[^@\\/\\n]+@)?(?:www\\.)?([^:\\/\\n]+)', url)[0])\n",
    "\n",
    "# Count the occurrence of each URL\n",
    "url_counts = data['url'].value_counts().reset_index()\n",
    "url_counts.columns = ['URL', 'Count']\n",
    "\n",
    "# Plot the most frequent URLs\n",
    "top_urls = url_counts.head(10)\n",
    "plt.figure(figsize=(10, 6))\n",
    "plt.barh(top_urls['URL'], top_urls['Count'])\n",
    "plt.xlabel('Count')\n",
    "plt.ylabel('URL')\n",
    "plt.title('Top 10 Most Frequent URLs')\n",
    "plt.show()\n",
    "\n",
    "# Categorize URLs based on patterns or keywords\n",
    "categories = {\n",
    "    'category1': ['keyword1', 'keyword2'],\n",
    "    'category2': ['keyword3', 'keyword4'],\n",
    "    'category3': ['keyword5', 'keyword6']\n",
    "}\n",
    "\n",
    "# Assign categories to URLs\n",
    "data['Category'] = data['url'].apply(lambda url: next((category for category, keywords in categories.items() if any(keyword in url for keyword in keywords)), 'Other'))\n",
    "\n",
    "# Count the occurrence of each category\n",
    "category_counts = data['Category'].value_counts().reset_index()\n",
    "category_counts.columns = ['Category', 'Count']\n",
    "\n",
    "# Plot the category distribution\n",
    "plt.figure(figsize=(10, 6))\n",
    "plt.bar(category_counts['Category'], category_counts['Count'])\n",
    "plt.xlabel('Category')\n",
    "plt.ylabel('Count')\n",
    "plt.title('URL Category Distribution')\n",
    "plt.show()"
   ]
  },
  {
   "cell_type": "markdown",
   "id": "f097cece",
   "metadata": {},
   "source": [
    "### In the above code:\n",
    "1. We load the CSV file into a DataFrame using **pd.read_csv('phish_score.csv')**.\n",
    "\n",
    "2. We extract the domain from the URL using a regular expression pattern with the help of the re module. This allows us to isolate the domain portion of the URLs and create a new column called 'Domain'.\n",
    "\n",
    "3. We count the occurrence of each URL using **data['URL'].value_counts()**. This provides the frequency count of each unique URL in the dataset.\n",
    "\n",
    "4. The most frequent URLs are plotted using **plt.barh()** to create a horizontal bar chart. We display the top 10 most frequent URLs with their corresponding counts.\n",
    "\n",
    "5. We categorize the URLs based on patterns or keywords using a dictionary named categories. Each category is associated with a list of keywords.\n",
    "\n",
    "6. URLs are assigned to categories based on the presence of keywords in the URL using a lambda function and the apply() method. The category is determined by matching the URL against the keywords in the categories dictionary.\n",
    "\n",
    "7. The occurrence of each category is counted using **data['Category'].value_counts()**, and the category distribution is plotted using plt.bar().\n",
    "\n",
    "By running this code, you will obtain two plots: one showing the top 10 most frequent URLs and their counts, and another displaying the distribution of URLs across different categories.\n",
    "\n",
    "These analyses allow us to identify the most frequent URLs, gain insights into website visits and domains, and categorize URLs based on patterns or keywords, providing a better understanding of the dataset."
   ]
  },
  {
   "cell_type": "markdown",
   "id": "36346f62",
   "metadata": {},
   "source": [
    "## URL Analysis\n",
    "\n",
    "In this step, we performed an analysis on the 'url' column to gain insights into the URLs present in the dataset. The analysis focused on determining the most frequent URLs, categorizing URLs based on patterns or keywords, and gaining insights into website visits and domains.\n",
    "\n",
    "Let's explore the findings:\n",
    "\n",
    "### Most Frequent URLs\n",
    "\n",
    "To identify the most frequent URLs, we counted the occurrence of each unique URL in the dataset. We plotted a horizontal bar chart to visualize the top 10 most frequent URLs and their corresponding counts.\n",
    "\n",
    "```python\n",
    "import pandas as pd\n",
    "import matplotlib.pyplot as plt\n",
    "import re\n",
    "\n",
    "# Load the CSV file into a DataFrame\n",
    "data = pd.read_csv('phish_score.csv')\n",
    "\n",
    "# Extract domain from URL\n",
    "data['Domain'] = data['url'].apply(lambda url: re.findall(r'^(?:https?:\\/\\/)?(?:[^@\\/\\n]+@)?(?:www\\.)?([^:\\/\\n]+)', url)[0])\n",
    "\n",
    "# Count the occurrence of each URL\n",
    "url_counts = data['url'].value_counts().reset_index()\n",
    "url_counts.columns = ['URL', 'Count']\n",
    "\n",
    "# Plot the most frequent URLs\n",
    "top_urls = url_counts.head(10)\n",
    "plt.figure(figsize=(10, 6))\n",
    "plt.barh(top_urls['URL'], top_urls['Count'])\n",
    "plt.xlabel('Count')\n",
    "plt.ylabel('URL')\n",
    "plt.title('Top 10 Most Frequent URLs')\n",
    "plt.show()\n"
   ]
  },
  {
   "cell_type": "markdown",
   "id": "7a47c4de",
   "metadata": {},
   "source": [
    "The resulting plot displays the top 10 most frequent URLs and their respective counts. This information helps us identify the URLs that appear most frequently in the dataset."
   ]
  },
  {
   "cell_type": "markdown",
   "id": "cbde83ad",
   "metadata": {},
   "source": [
    "### URL Categorization\n",
    "To categorize the URLs based on patterns or keywords, we defined a dictionary called **categories**. Each category in the dictionary is associated with a list of keywords. We assigned categories to the URLs by matching the keywords in the URL.\n",
    "\n",
    "```python\n",
    "import pandas as pd\n",
    "import matplotlib.pyplot as plt\n",
    "import re\n",
    "\n",
    "# Load the CSV file into a DataFrame\n",
    "data = pd.read_csv('phish_score.csv')\n",
    "\n",
    "# Categorize URLs based on patterns or keywords\n",
    "categories = {\n",
    "    'category1': ['keyword1', 'keyword2'],\n",
    "    'category2': ['keyword3', 'keyword4'],\n",
    "    'category3': ['keyword5', 'keyword6']\n",
    "}\n",
    "\n",
    "# Assign categories to URLs\n",
    "data['Category'] = data['url'].apply(lambda url: next((category for category, keywords in categories.items() if any(keyword in url for keyword in keywords)), 'Other'))\n",
    "\n",
    "# Count the occurrence of each category\n",
    "category_counts = data['Category'].value_counts().reset_index()\n",
    "category_counts.columns = ['Category', 'Count']\n",
    "\n",
    "# Plot the category distribution\n",
    "plt.figure(figsize=(10, 6))\n",
    "plt.bar(category_counts['Category'], category_counts['Count'])\n",
    "plt.xlabel('Category')\n",
    "plt.ylabel('Count')\n",
    "plt.title('URL Category Distribution')\n",
    "plt.show()\n"
   ]
  },
  {
   "cell_type": "markdown",
   "id": "7a9d6d79",
   "metadata": {},
   "source": [
    "We assigned categories to the URLs based on the presence of keywords in the URL. The resulting categories were stored in a new column called 'Category'. We then counted the occurrence of each category and visualized the distribution using a bar chart.\n",
    "\n",
    "These analyses provide insights into the most frequent URLs in the dataset and allow us to categorize the URLs based on patterns or keywords. This helps us gain a better understanding of the website visits, domain distribution, and any notable characteristics of the URLs.\n",
    "\n",
    "Feel free to customize the code, add more keyword categories, or modify the plot settings to suit your specific analysis requirements."
   ]
  },
  {
   "cell_type": "markdown",
   "id": "6d844b04",
   "metadata": {},
   "source": [
    "## IP Analysis: \n",
    "We will analyze the IP column to perform geolocation analysis, identify the geographic distribution of IP addresses, and gain insights into user behavior or traffic patterns.\n",
    "\n",
    "# If you dont have geopanda open a cell in this notebook and write !pip install geopanda "
   ]
  },
  {
   "cell_type": "code",
   "execution_count": 33,
   "id": "68b0e187",
   "metadata": {},
   "outputs": [
    {
     "name": "stderr",
     "output_type": "stream",
     "text": [
      "C:\\Users\\ivy\\AppData\\Local\\Temp\\ipykernel_20188\\2031595355.py:10: FutureWarning:\n",
      "\n",
      "The geopandas.dataset module is deprecated and will be removed in GeoPandas 1.0. You can get the original 'naturalearth_lowres' data from https://www.naturalearthdata.com/downloads/110m-cultural-vectors/.\n",
      "\n"
     ]
    },
    {
     "data": {
      "application/vnd.plotly.v1+json": {
       "config": {
        "plotlyServerURL": "https://plot.ly"
       },
       "data": [
        {
         "coloraxis": "coloraxis",
         "geo": "geo",
         "hovertemplate": "name=%{location}<br>Count=%{z}<extra></extra>",
         "locationmode": "country names",
         "locations": [
          "Fiji",
          "Tanzania",
          "W. Sahara",
          "Canada",
          "United States of America",
          "Kazakhstan",
          "Uzbekistan",
          "Papua New Guinea",
          "Indonesia",
          "Argentina",
          "Chile",
          "Dem. Rep. Congo",
          "Somalia",
          "Kenya",
          "Sudan",
          "Chad",
          "Haiti",
          "Dominican Rep.",
          "Russia",
          "Bahamas",
          "Falkland Is.",
          "Norway",
          "Greenland",
          "Fr. S. Antarctic Lands",
          "Timor-Leste",
          "South Africa",
          "Lesotho",
          "Mexico",
          "Uruguay",
          "Brazil",
          "Bolivia",
          "Peru",
          "Colombia",
          "Panama",
          "Costa Rica",
          "Nicaragua",
          "Honduras",
          "El Salvador",
          "Guatemala",
          "Belize",
          "Venezuela",
          "Guyana",
          "Suriname",
          "France",
          "Ecuador",
          "Puerto Rico",
          "Jamaica",
          "Cuba",
          "Zimbabwe",
          "Botswana",
          "Namibia",
          "Senegal",
          "Mali",
          "Mauritania",
          "Benin",
          "Niger",
          "Nigeria",
          "Cameroon",
          "Togo",
          "Ghana",
          "Côte d'Ivoire",
          "Guinea",
          "Guinea-Bissau",
          "Liberia",
          "Sierra Leone",
          "Burkina Faso",
          "Central African Rep.",
          "Congo",
          "Gabon",
          "Eq. Guinea",
          "Zambia",
          "Malawi",
          "Mozambique",
          "eSwatini",
          "Angola",
          "Burundi",
          "Israel",
          "Lebanon",
          "Madagascar",
          "Palestine",
          "Gambia",
          "Tunisia",
          "Algeria",
          "Jordan",
          "United Arab Emirates",
          "Qatar",
          "Kuwait",
          "Iraq",
          "Oman",
          "Vanuatu",
          "Cambodia",
          "Thailand",
          "Laos",
          "Myanmar",
          "Vietnam",
          "North Korea",
          "South Korea",
          "Mongolia",
          "India",
          "Bangladesh",
          "Bhutan",
          "Nepal",
          "Pakistan",
          "Afghanistan",
          "Tajikistan",
          "Kyrgyzstan",
          "Turkmenistan",
          "Iran",
          "Syria",
          "Armenia",
          "Sweden",
          "Belarus",
          "Ukraine",
          "Poland",
          "Austria",
          "Hungary",
          "Moldova",
          "Romania",
          "Lithuania",
          "Latvia",
          "Estonia",
          "Germany",
          "Bulgaria",
          "Greece",
          "Turkey",
          "Albania",
          "Croatia",
          "Switzerland",
          "Luxembourg",
          "Belgium",
          "Netherlands",
          "Portugal",
          "Spain",
          "Ireland",
          "New Caledonia",
          "Solomon Is.",
          "New Zealand",
          "Australia",
          "Sri Lanka",
          "China",
          "Taiwan",
          "Italy",
          "Denmark",
          "United Kingdom",
          "Iceland",
          "Azerbaijan",
          "Georgia",
          "Philippines",
          "Malaysia",
          "Brunei",
          "Slovenia",
          "Finland",
          "Slovakia",
          "Czechia",
          "Eritrea",
          "Japan",
          "Paraguay",
          "Yemen",
          "Saudi Arabia",
          "Antarctica",
          "N. Cyprus",
          "Cyprus",
          "Morocco",
          "Egypt",
          "Libya",
          "Ethiopia",
          "Djibouti",
          "Somaliland",
          "Uganda",
          "Rwanda",
          "Bosnia and Herz.",
          "North Macedonia",
          "Serbia",
          "Montenegro",
          "Kosovo",
          "Trinidad and Tobago",
          "S. Sudan"
         ],
         "name": "",
         "type": "choropleth",
         "z": [
          null,
          2,
          null,
          552,
          null,
          20,
          null,
          null,
          315,
          95,
          44,
          null,
          null,
          5,
          null,
          null,
          null,
          null,
          1507,
          null,
          null,
          5,
          null,
          null,
          null,
          51,
          null,
          5,
          null,
          324,
          null,
          3,
          13,
          316,
          null,
          null,
          null,
          null,
          null,
          9,
          null,
          null,
          1,
          581,
          1,
          null,
          null,
          null,
          1,
          null,
          null,
          null,
          null,
          null,
          null,
          null,
          5,
          null,
          null,
          null,
          null,
          null,
          null,
          null,
          null,
          null,
          null,
          null,
          null,
          null,
          null,
          2,
          1,
          null,
          null,
          null,
          5,
          null,
          null,
          2,
          null,
          null,
          null,
          null,
          11,
          null,
          1,
          null,
          null,
          null,
          53,
          72,
          null,
          null,
          862,
          null,
          181,
          1,
          308,
          14,
          null,
          1,
          null,
          null,
          null,
          null,
          null,
          33,
          null,
          null,
          91,
          36,
          27,
          146,
          103,
          10,
          35,
          187,
          114,
          8,
          4,
          1334,
          222,
          6,
          222,
          null,
          9,
          72,
          24,
          13,
          672,
          39,
          126,
          91,
          null,
          null,
          1,
          523,
          1,
          102,
          23,
          92,
          7,
          448,
          6,
          4,
          6,
          null,
          149,
          null,
          3,
          92,
          15,
          63,
          null,
          1005,
          2,
          null,
          16,
          null,
          null,
          2,
          47,
          1,
          null,
          null,
          null,
          null,
          null,
          null,
          null,
          null,
          2,
          null,
          null,
          null,
          null
         ]
        }
       ],
       "layout": {
        "coloraxis": {
         "colorbar": {
          "title": {
           "text": "Count"
          }
         },
         "colorscale": [
          [
           0,
           "#440154"
          ],
          [
           0.1111111111111111,
           "#482878"
          ],
          [
           0.2222222222222222,
           "#3e4989"
          ],
          [
           0.3333333333333333,
           "#31688e"
          ],
          [
           0.4444444444444444,
           "#26828e"
          ],
          [
           0.5555555555555556,
           "#1f9e89"
          ],
          [
           0.6666666666666666,
           "#35b779"
          ],
          [
           0.7777777777777778,
           "#6ece58"
          ],
          [
           0.8888888888888888,
           "#b5de2b"
          ],
          [
           1,
           "#fde725"
          ]
         ]
        },
        "geo": {
         "center": {},
         "domain": {
          "x": [
           0,
           1
          ],
          "y": [
           0,
           1
          ]
         }
        },
        "legend": {
         "tracegroupgap": 0
        },
        "template": {
         "data": {
          "bar": [
           {
            "error_x": {
             "color": "#2a3f5f"
            },
            "error_y": {
             "color": "#2a3f5f"
            },
            "marker": {
             "line": {
              "color": "#E5ECF6",
              "width": 0.5
             },
             "pattern": {
              "fillmode": "overlay",
              "size": 10,
              "solidity": 0.2
             }
            },
            "type": "bar"
           }
          ],
          "barpolar": [
           {
            "marker": {
             "line": {
              "color": "#E5ECF6",
              "width": 0.5
             },
             "pattern": {
              "fillmode": "overlay",
              "size": 10,
              "solidity": 0.2
             }
            },
            "type": "barpolar"
           }
          ],
          "carpet": [
           {
            "aaxis": {
             "endlinecolor": "#2a3f5f",
             "gridcolor": "white",
             "linecolor": "white",
             "minorgridcolor": "white",
             "startlinecolor": "#2a3f5f"
            },
            "baxis": {
             "endlinecolor": "#2a3f5f",
             "gridcolor": "white",
             "linecolor": "white",
             "minorgridcolor": "white",
             "startlinecolor": "#2a3f5f"
            },
            "type": "carpet"
           }
          ],
          "choropleth": [
           {
            "colorbar": {
             "outlinewidth": 0,
             "ticks": ""
            },
            "type": "choropleth"
           }
          ],
          "contour": [
           {
            "colorbar": {
             "outlinewidth": 0,
             "ticks": ""
            },
            "colorscale": [
             [
              0,
              "#0d0887"
             ],
             [
              0.1111111111111111,
              "#46039f"
             ],
             [
              0.2222222222222222,
              "#7201a8"
             ],
             [
              0.3333333333333333,
              "#9c179e"
             ],
             [
              0.4444444444444444,
              "#bd3786"
             ],
             [
              0.5555555555555556,
              "#d8576b"
             ],
             [
              0.6666666666666666,
              "#ed7953"
             ],
             [
              0.7777777777777778,
              "#fb9f3a"
             ],
             [
              0.8888888888888888,
              "#fdca26"
             ],
             [
              1,
              "#f0f921"
             ]
            ],
            "type": "contour"
           }
          ],
          "contourcarpet": [
           {
            "colorbar": {
             "outlinewidth": 0,
             "ticks": ""
            },
            "type": "contourcarpet"
           }
          ],
          "heatmap": [
           {
            "colorbar": {
             "outlinewidth": 0,
             "ticks": ""
            },
            "colorscale": [
             [
              0,
              "#0d0887"
             ],
             [
              0.1111111111111111,
              "#46039f"
             ],
             [
              0.2222222222222222,
              "#7201a8"
             ],
             [
              0.3333333333333333,
              "#9c179e"
             ],
             [
              0.4444444444444444,
              "#bd3786"
             ],
             [
              0.5555555555555556,
              "#d8576b"
             ],
             [
              0.6666666666666666,
              "#ed7953"
             ],
             [
              0.7777777777777778,
              "#fb9f3a"
             ],
             [
              0.8888888888888888,
              "#fdca26"
             ],
             [
              1,
              "#f0f921"
             ]
            ],
            "type": "heatmap"
           }
          ],
          "heatmapgl": [
           {
            "colorbar": {
             "outlinewidth": 0,
             "ticks": ""
            },
            "colorscale": [
             [
              0,
              "#0d0887"
             ],
             [
              0.1111111111111111,
              "#46039f"
             ],
             [
              0.2222222222222222,
              "#7201a8"
             ],
             [
              0.3333333333333333,
              "#9c179e"
             ],
             [
              0.4444444444444444,
              "#bd3786"
             ],
             [
              0.5555555555555556,
              "#d8576b"
             ],
             [
              0.6666666666666666,
              "#ed7953"
             ],
             [
              0.7777777777777778,
              "#fb9f3a"
             ],
             [
              0.8888888888888888,
              "#fdca26"
             ],
             [
              1,
              "#f0f921"
             ]
            ],
            "type": "heatmapgl"
           }
          ],
          "histogram": [
           {
            "marker": {
             "pattern": {
              "fillmode": "overlay",
              "size": 10,
              "solidity": 0.2
             }
            },
            "type": "histogram"
           }
          ],
          "histogram2d": [
           {
            "colorbar": {
             "outlinewidth": 0,
             "ticks": ""
            },
            "colorscale": [
             [
              0,
              "#0d0887"
             ],
             [
              0.1111111111111111,
              "#46039f"
             ],
             [
              0.2222222222222222,
              "#7201a8"
             ],
             [
              0.3333333333333333,
              "#9c179e"
             ],
             [
              0.4444444444444444,
              "#bd3786"
             ],
             [
              0.5555555555555556,
              "#d8576b"
             ],
             [
              0.6666666666666666,
              "#ed7953"
             ],
             [
              0.7777777777777778,
              "#fb9f3a"
             ],
             [
              0.8888888888888888,
              "#fdca26"
             ],
             [
              1,
              "#f0f921"
             ]
            ],
            "type": "histogram2d"
           }
          ],
          "histogram2dcontour": [
           {
            "colorbar": {
             "outlinewidth": 0,
             "ticks": ""
            },
            "colorscale": [
             [
              0,
              "#0d0887"
             ],
             [
              0.1111111111111111,
              "#46039f"
             ],
             [
              0.2222222222222222,
              "#7201a8"
             ],
             [
              0.3333333333333333,
              "#9c179e"
             ],
             [
              0.4444444444444444,
              "#bd3786"
             ],
             [
              0.5555555555555556,
              "#d8576b"
             ],
             [
              0.6666666666666666,
              "#ed7953"
             ],
             [
              0.7777777777777778,
              "#fb9f3a"
             ],
             [
              0.8888888888888888,
              "#fdca26"
             ],
             [
              1,
              "#f0f921"
             ]
            ],
            "type": "histogram2dcontour"
           }
          ],
          "mesh3d": [
           {
            "colorbar": {
             "outlinewidth": 0,
             "ticks": ""
            },
            "type": "mesh3d"
           }
          ],
          "parcoords": [
           {
            "line": {
             "colorbar": {
              "outlinewidth": 0,
              "ticks": ""
             }
            },
            "type": "parcoords"
           }
          ],
          "pie": [
           {
            "automargin": true,
            "type": "pie"
           }
          ],
          "scatter": [
           {
            "fillpattern": {
             "fillmode": "overlay",
             "size": 10,
             "solidity": 0.2
            },
            "type": "scatter"
           }
          ],
          "scatter3d": [
           {
            "line": {
             "colorbar": {
              "outlinewidth": 0,
              "ticks": ""
             }
            },
            "marker": {
             "colorbar": {
              "outlinewidth": 0,
              "ticks": ""
             }
            },
            "type": "scatter3d"
           }
          ],
          "scattercarpet": [
           {
            "marker": {
             "colorbar": {
              "outlinewidth": 0,
              "ticks": ""
             }
            },
            "type": "scattercarpet"
           }
          ],
          "scattergeo": [
           {
            "marker": {
             "colorbar": {
              "outlinewidth": 0,
              "ticks": ""
             }
            },
            "type": "scattergeo"
           }
          ],
          "scattergl": [
           {
            "marker": {
             "colorbar": {
              "outlinewidth": 0,
              "ticks": ""
             }
            },
            "type": "scattergl"
           }
          ],
          "scattermapbox": [
           {
            "marker": {
             "colorbar": {
              "outlinewidth": 0,
              "ticks": ""
             }
            },
            "type": "scattermapbox"
           }
          ],
          "scatterpolar": [
           {
            "marker": {
             "colorbar": {
              "outlinewidth": 0,
              "ticks": ""
             }
            },
            "type": "scatterpolar"
           }
          ],
          "scatterpolargl": [
           {
            "marker": {
             "colorbar": {
              "outlinewidth": 0,
              "ticks": ""
             }
            },
            "type": "scatterpolargl"
           }
          ],
          "scatterternary": [
           {
            "marker": {
             "colorbar": {
              "outlinewidth": 0,
              "ticks": ""
             }
            },
            "type": "scatterternary"
           }
          ],
          "surface": [
           {
            "colorbar": {
             "outlinewidth": 0,
             "ticks": ""
            },
            "colorscale": [
             [
              0,
              "#0d0887"
             ],
             [
              0.1111111111111111,
              "#46039f"
             ],
             [
              0.2222222222222222,
              "#7201a8"
             ],
             [
              0.3333333333333333,
              "#9c179e"
             ],
             [
              0.4444444444444444,
              "#bd3786"
             ],
             [
              0.5555555555555556,
              "#d8576b"
             ],
             [
              0.6666666666666666,
              "#ed7953"
             ],
             [
              0.7777777777777778,
              "#fb9f3a"
             ],
             [
              0.8888888888888888,
              "#fdca26"
             ],
             [
              1,
              "#f0f921"
             ]
            ],
            "type": "surface"
           }
          ],
          "table": [
           {
            "cells": {
             "fill": {
              "color": "#EBF0F8"
             },
             "line": {
              "color": "white"
             }
            },
            "header": {
             "fill": {
              "color": "#C8D4E3"
             },
             "line": {
              "color": "white"
             }
            },
            "type": "table"
           }
          ]
         },
         "layout": {
          "annotationdefaults": {
           "arrowcolor": "#2a3f5f",
           "arrowhead": 0,
           "arrowwidth": 1
          },
          "autotypenumbers": "strict",
          "coloraxis": {
           "colorbar": {
            "outlinewidth": 0,
            "ticks": ""
           }
          },
          "colorscale": {
           "diverging": [
            [
             0,
             "#8e0152"
            ],
            [
             0.1,
             "#c51b7d"
            ],
            [
             0.2,
             "#de77ae"
            ],
            [
             0.3,
             "#f1b6da"
            ],
            [
             0.4,
             "#fde0ef"
            ],
            [
             0.5,
             "#f7f7f7"
            ],
            [
             0.6,
             "#e6f5d0"
            ],
            [
             0.7,
             "#b8e186"
            ],
            [
             0.8,
             "#7fbc41"
            ],
            [
             0.9,
             "#4d9221"
            ],
            [
             1,
             "#276419"
            ]
           ],
           "sequential": [
            [
             0,
             "#0d0887"
            ],
            [
             0.1111111111111111,
             "#46039f"
            ],
            [
             0.2222222222222222,
             "#7201a8"
            ],
            [
             0.3333333333333333,
             "#9c179e"
            ],
            [
             0.4444444444444444,
             "#bd3786"
            ],
            [
             0.5555555555555556,
             "#d8576b"
            ],
            [
             0.6666666666666666,
             "#ed7953"
            ],
            [
             0.7777777777777778,
             "#fb9f3a"
            ],
            [
             0.8888888888888888,
             "#fdca26"
            ],
            [
             1,
             "#f0f921"
            ]
           ],
           "sequentialminus": [
            [
             0,
             "#0d0887"
            ],
            [
             0.1111111111111111,
             "#46039f"
            ],
            [
             0.2222222222222222,
             "#7201a8"
            ],
            [
             0.3333333333333333,
             "#9c179e"
            ],
            [
             0.4444444444444444,
             "#bd3786"
            ],
            [
             0.5555555555555556,
             "#d8576b"
            ],
            [
             0.6666666666666666,
             "#ed7953"
            ],
            [
             0.7777777777777778,
             "#fb9f3a"
            ],
            [
             0.8888888888888888,
             "#fdca26"
            ],
            [
             1,
             "#f0f921"
            ]
           ]
          },
          "colorway": [
           "#636efa",
           "#EF553B",
           "#00cc96",
           "#ab63fa",
           "#FFA15A",
           "#19d3f3",
           "#FF6692",
           "#B6E880",
           "#FF97FF",
           "#FECB52"
          ],
          "font": {
           "color": "#2a3f5f"
          },
          "geo": {
           "bgcolor": "white",
           "lakecolor": "white",
           "landcolor": "#E5ECF6",
           "showlakes": true,
           "showland": true,
           "subunitcolor": "white"
          },
          "hoverlabel": {
           "align": "left"
          },
          "hovermode": "closest",
          "mapbox": {
           "style": "light"
          },
          "paper_bgcolor": "white",
          "plot_bgcolor": "#E5ECF6",
          "polar": {
           "angularaxis": {
            "gridcolor": "white",
            "linecolor": "white",
            "ticks": ""
           },
           "bgcolor": "#E5ECF6",
           "radialaxis": {
            "gridcolor": "white",
            "linecolor": "white",
            "ticks": ""
           }
          },
          "scene": {
           "xaxis": {
            "backgroundcolor": "#E5ECF6",
            "gridcolor": "white",
            "gridwidth": 2,
            "linecolor": "white",
            "showbackground": true,
            "ticks": "",
            "zerolinecolor": "white"
           },
           "yaxis": {
            "backgroundcolor": "#E5ECF6",
            "gridcolor": "white",
            "gridwidth": 2,
            "linecolor": "white",
            "showbackground": true,
            "ticks": "",
            "zerolinecolor": "white"
           },
           "zaxis": {
            "backgroundcolor": "#E5ECF6",
            "gridcolor": "white",
            "gridwidth": 2,
            "linecolor": "white",
            "showbackground": true,
            "ticks": "",
            "zerolinecolor": "white"
           }
          },
          "shapedefaults": {
           "line": {
            "color": "#2a3f5f"
           }
          },
          "ternary": {
           "aaxis": {
            "gridcolor": "white",
            "linecolor": "white",
            "ticks": ""
           },
           "baxis": {
            "gridcolor": "white",
            "linecolor": "white",
            "ticks": ""
           },
           "bgcolor": "#E5ECF6",
           "caxis": {
            "gridcolor": "white",
            "linecolor": "white",
            "ticks": ""
           }
          },
          "title": {
           "x": 0.05
          },
          "xaxis": {
           "automargin": true,
           "gridcolor": "white",
           "linecolor": "white",
           "ticks": "",
           "title": {
            "standoff": 15
           },
           "zerolinecolor": "white",
           "zerolinewidth": 2
          },
          "yaxis": {
           "automargin": true,
           "gridcolor": "white",
           "linecolor": "white",
           "ticks": "",
           "title": {
            "standoff": 15
           },
           "zerolinecolor": "white",
           "zerolinewidth": 2
          }
         }
        },
        "title": {
         "text": "Geographic Distribution of IP Addresses"
        }
       }
      },
      "text/html": [
       "<div>                            <div id=\"f383edf9-58aa-455f-805a-274d7f41e35c\" class=\"plotly-graph-div\" style=\"height:525px; width:100%;\"></div>            <script type=\"text/javascript\">                require([\"plotly\"], function(Plotly) {                    window.PLOTLYENV=window.PLOTLYENV || {};                                    if (document.getElementById(\"f383edf9-58aa-455f-805a-274d7f41e35c\")) {                    Plotly.newPlot(                        \"f383edf9-58aa-455f-805a-274d7f41e35c\",                        [{\"coloraxis\":\"coloraxis\",\"geo\":\"geo\",\"hovertemplate\":\"name=%{location}<br>Count=%{z}<extra></extra>\",\"locationmode\":\"country names\",\"locations\":[\"Fiji\",\"Tanzania\",\"W. Sahara\",\"Canada\",\"United States of America\",\"Kazakhstan\",\"Uzbekistan\",\"Papua New Guinea\",\"Indonesia\",\"Argentina\",\"Chile\",\"Dem. Rep. Congo\",\"Somalia\",\"Kenya\",\"Sudan\",\"Chad\",\"Haiti\",\"Dominican Rep.\",\"Russia\",\"Bahamas\",\"Falkland Is.\",\"Norway\",\"Greenland\",\"Fr. S. Antarctic Lands\",\"Timor-Leste\",\"South Africa\",\"Lesotho\",\"Mexico\",\"Uruguay\",\"Brazil\",\"Bolivia\",\"Peru\",\"Colombia\",\"Panama\",\"Costa Rica\",\"Nicaragua\",\"Honduras\",\"El Salvador\",\"Guatemala\",\"Belize\",\"Venezuela\",\"Guyana\",\"Suriname\",\"France\",\"Ecuador\",\"Puerto Rico\",\"Jamaica\",\"Cuba\",\"Zimbabwe\",\"Botswana\",\"Namibia\",\"Senegal\",\"Mali\",\"Mauritania\",\"Benin\",\"Niger\",\"Nigeria\",\"Cameroon\",\"Togo\",\"Ghana\",\"C\\u00f4te d'Ivoire\",\"Guinea\",\"Guinea-Bissau\",\"Liberia\",\"Sierra Leone\",\"Burkina Faso\",\"Central African Rep.\",\"Congo\",\"Gabon\",\"Eq. Guinea\",\"Zambia\",\"Malawi\",\"Mozambique\",\"eSwatini\",\"Angola\",\"Burundi\",\"Israel\",\"Lebanon\",\"Madagascar\",\"Palestine\",\"Gambia\",\"Tunisia\",\"Algeria\",\"Jordan\",\"United Arab Emirates\",\"Qatar\",\"Kuwait\",\"Iraq\",\"Oman\",\"Vanuatu\",\"Cambodia\",\"Thailand\",\"Laos\",\"Myanmar\",\"Vietnam\",\"North Korea\",\"South Korea\",\"Mongolia\",\"India\",\"Bangladesh\",\"Bhutan\",\"Nepal\",\"Pakistan\",\"Afghanistan\",\"Tajikistan\",\"Kyrgyzstan\",\"Turkmenistan\",\"Iran\",\"Syria\",\"Armenia\",\"Sweden\",\"Belarus\",\"Ukraine\",\"Poland\",\"Austria\",\"Hungary\",\"Moldova\",\"Romania\",\"Lithuania\",\"Latvia\",\"Estonia\",\"Germany\",\"Bulgaria\",\"Greece\",\"Turkey\",\"Albania\",\"Croatia\",\"Switzerland\",\"Luxembourg\",\"Belgium\",\"Netherlands\",\"Portugal\",\"Spain\",\"Ireland\",\"New Caledonia\",\"Solomon Is.\",\"New Zealand\",\"Australia\",\"Sri Lanka\",\"China\",\"Taiwan\",\"Italy\",\"Denmark\",\"United Kingdom\",\"Iceland\",\"Azerbaijan\",\"Georgia\",\"Philippines\",\"Malaysia\",\"Brunei\",\"Slovenia\",\"Finland\",\"Slovakia\",\"Czechia\",\"Eritrea\",\"Japan\",\"Paraguay\",\"Yemen\",\"Saudi Arabia\",\"Antarctica\",\"N. Cyprus\",\"Cyprus\",\"Morocco\",\"Egypt\",\"Libya\",\"Ethiopia\",\"Djibouti\",\"Somaliland\",\"Uganda\",\"Rwanda\",\"Bosnia and Herz.\",\"North Macedonia\",\"Serbia\",\"Montenegro\",\"Kosovo\",\"Trinidad and Tobago\",\"S. Sudan\"],\"name\":\"\",\"z\":[null,2.0,null,552.0,null,20.0,null,null,315.0,95.0,44.0,null,null,5.0,null,null,null,null,1507.0,null,null,5.0,null,null,null,51.0,null,5.0,null,324.0,null,3.0,13.0,316.0,null,null,null,null,null,9.0,null,null,1.0,581.0,1.0,null,null,null,1.0,null,null,null,null,null,null,null,5.0,null,null,null,null,null,null,null,null,null,null,null,null,null,null,2.0,1.0,null,null,null,5.0,null,null,2.0,null,null,null,null,11.0,null,1.0,null,null,null,53.0,72.0,null,null,862.0,null,181.0,1.0,308.0,14.0,null,1.0,null,null,null,null,null,33.0,null,null,91.0,36.0,27.0,146.0,103.0,10.0,35.0,187.0,114.0,8.0,4.0,1334.0,222.0,6.0,222.0,null,9.0,72.0,24.0,13.0,672.0,39.0,126.0,91.0,null,null,1.0,523.0,1.0,102.0,23.0,92.0,7.0,448.0,6.0,4.0,6.0,null,149.0,null,3.0,92.0,15.0,63.0,null,1005.0,2.0,null,16.0,null,null,2.0,47.0,1.0,null,null,null,null,null,null,null,null,2.0,null,null,null,null],\"type\":\"choropleth\"}],                        {\"template\":{\"data\":{\"histogram2dcontour\":[{\"type\":\"histogram2dcontour\",\"colorbar\":{\"outlinewidth\":0,\"ticks\":\"\"},\"colorscale\":[[0.0,\"#0d0887\"],[0.1111111111111111,\"#46039f\"],[0.2222222222222222,\"#7201a8\"],[0.3333333333333333,\"#9c179e\"],[0.4444444444444444,\"#bd3786\"],[0.5555555555555556,\"#d8576b\"],[0.6666666666666666,\"#ed7953\"],[0.7777777777777778,\"#fb9f3a\"],[0.8888888888888888,\"#fdca26\"],[1.0,\"#f0f921\"]]}],\"choropleth\":[{\"type\":\"choropleth\",\"colorbar\":{\"outlinewidth\":0,\"ticks\":\"\"}}],\"histogram2d\":[{\"type\":\"histogram2d\",\"colorbar\":{\"outlinewidth\":0,\"ticks\":\"\"},\"colorscale\":[[0.0,\"#0d0887\"],[0.1111111111111111,\"#46039f\"],[0.2222222222222222,\"#7201a8\"],[0.3333333333333333,\"#9c179e\"],[0.4444444444444444,\"#bd3786\"],[0.5555555555555556,\"#d8576b\"],[0.6666666666666666,\"#ed7953\"],[0.7777777777777778,\"#fb9f3a\"],[0.8888888888888888,\"#fdca26\"],[1.0,\"#f0f921\"]]}],\"heatmap\":[{\"type\":\"heatmap\",\"colorbar\":{\"outlinewidth\":0,\"ticks\":\"\"},\"colorscale\":[[0.0,\"#0d0887\"],[0.1111111111111111,\"#46039f\"],[0.2222222222222222,\"#7201a8\"],[0.3333333333333333,\"#9c179e\"],[0.4444444444444444,\"#bd3786\"],[0.5555555555555556,\"#d8576b\"],[0.6666666666666666,\"#ed7953\"],[0.7777777777777778,\"#fb9f3a\"],[0.8888888888888888,\"#fdca26\"],[1.0,\"#f0f921\"]]}],\"heatmapgl\":[{\"type\":\"heatmapgl\",\"colorbar\":{\"outlinewidth\":0,\"ticks\":\"\"},\"colorscale\":[[0.0,\"#0d0887\"],[0.1111111111111111,\"#46039f\"],[0.2222222222222222,\"#7201a8\"],[0.3333333333333333,\"#9c179e\"],[0.4444444444444444,\"#bd3786\"],[0.5555555555555556,\"#d8576b\"],[0.6666666666666666,\"#ed7953\"],[0.7777777777777778,\"#fb9f3a\"],[0.8888888888888888,\"#fdca26\"],[1.0,\"#f0f921\"]]}],\"contourcarpet\":[{\"type\":\"contourcarpet\",\"colorbar\":{\"outlinewidth\":0,\"ticks\":\"\"}}],\"contour\":[{\"type\":\"contour\",\"colorbar\":{\"outlinewidth\":0,\"ticks\":\"\"},\"colorscale\":[[0.0,\"#0d0887\"],[0.1111111111111111,\"#46039f\"],[0.2222222222222222,\"#7201a8\"],[0.3333333333333333,\"#9c179e\"],[0.4444444444444444,\"#bd3786\"],[0.5555555555555556,\"#d8576b\"],[0.6666666666666666,\"#ed7953\"],[0.7777777777777778,\"#fb9f3a\"],[0.8888888888888888,\"#fdca26\"],[1.0,\"#f0f921\"]]}],\"surface\":[{\"type\":\"surface\",\"colorbar\":{\"outlinewidth\":0,\"ticks\":\"\"},\"colorscale\":[[0.0,\"#0d0887\"],[0.1111111111111111,\"#46039f\"],[0.2222222222222222,\"#7201a8\"],[0.3333333333333333,\"#9c179e\"],[0.4444444444444444,\"#bd3786\"],[0.5555555555555556,\"#d8576b\"],[0.6666666666666666,\"#ed7953\"],[0.7777777777777778,\"#fb9f3a\"],[0.8888888888888888,\"#fdca26\"],[1.0,\"#f0f921\"]]}],\"mesh3d\":[{\"type\":\"mesh3d\",\"colorbar\":{\"outlinewidth\":0,\"ticks\":\"\"}}],\"scatter\":[{\"fillpattern\":{\"fillmode\":\"overlay\",\"size\":10,\"solidity\":0.2},\"type\":\"scatter\"}],\"parcoords\":[{\"type\":\"parcoords\",\"line\":{\"colorbar\":{\"outlinewidth\":0,\"ticks\":\"\"}}}],\"scatterpolargl\":[{\"type\":\"scatterpolargl\",\"marker\":{\"colorbar\":{\"outlinewidth\":0,\"ticks\":\"\"}}}],\"bar\":[{\"error_x\":{\"color\":\"#2a3f5f\"},\"error_y\":{\"color\":\"#2a3f5f\"},\"marker\":{\"line\":{\"color\":\"#E5ECF6\",\"width\":0.5},\"pattern\":{\"fillmode\":\"overlay\",\"size\":10,\"solidity\":0.2}},\"type\":\"bar\"}],\"scattergeo\":[{\"type\":\"scattergeo\",\"marker\":{\"colorbar\":{\"outlinewidth\":0,\"ticks\":\"\"}}}],\"scatterpolar\":[{\"type\":\"scatterpolar\",\"marker\":{\"colorbar\":{\"outlinewidth\":0,\"ticks\":\"\"}}}],\"histogram\":[{\"marker\":{\"pattern\":{\"fillmode\":\"overlay\",\"size\":10,\"solidity\":0.2}},\"type\":\"histogram\"}],\"scattergl\":[{\"type\":\"scattergl\",\"marker\":{\"colorbar\":{\"outlinewidth\":0,\"ticks\":\"\"}}}],\"scatter3d\":[{\"type\":\"scatter3d\",\"line\":{\"colorbar\":{\"outlinewidth\":0,\"ticks\":\"\"}},\"marker\":{\"colorbar\":{\"outlinewidth\":0,\"ticks\":\"\"}}}],\"scattermapbox\":[{\"type\":\"scattermapbox\",\"marker\":{\"colorbar\":{\"outlinewidth\":0,\"ticks\":\"\"}}}],\"scatterternary\":[{\"type\":\"scatterternary\",\"marker\":{\"colorbar\":{\"outlinewidth\":0,\"ticks\":\"\"}}}],\"scattercarpet\":[{\"type\":\"scattercarpet\",\"marker\":{\"colorbar\":{\"outlinewidth\":0,\"ticks\":\"\"}}}],\"carpet\":[{\"aaxis\":{\"endlinecolor\":\"#2a3f5f\",\"gridcolor\":\"white\",\"linecolor\":\"white\",\"minorgridcolor\":\"white\",\"startlinecolor\":\"#2a3f5f\"},\"baxis\":{\"endlinecolor\":\"#2a3f5f\",\"gridcolor\":\"white\",\"linecolor\":\"white\",\"minorgridcolor\":\"white\",\"startlinecolor\":\"#2a3f5f\"},\"type\":\"carpet\"}],\"table\":[{\"cells\":{\"fill\":{\"color\":\"#EBF0F8\"},\"line\":{\"color\":\"white\"}},\"header\":{\"fill\":{\"color\":\"#C8D4E3\"},\"line\":{\"color\":\"white\"}},\"type\":\"table\"}],\"barpolar\":[{\"marker\":{\"line\":{\"color\":\"#E5ECF6\",\"width\":0.5},\"pattern\":{\"fillmode\":\"overlay\",\"size\":10,\"solidity\":0.2}},\"type\":\"barpolar\"}],\"pie\":[{\"automargin\":true,\"type\":\"pie\"}]},\"layout\":{\"autotypenumbers\":\"strict\",\"colorway\":[\"#636efa\",\"#EF553B\",\"#00cc96\",\"#ab63fa\",\"#FFA15A\",\"#19d3f3\",\"#FF6692\",\"#B6E880\",\"#FF97FF\",\"#FECB52\"],\"font\":{\"color\":\"#2a3f5f\"},\"hovermode\":\"closest\",\"hoverlabel\":{\"align\":\"left\"},\"paper_bgcolor\":\"white\",\"plot_bgcolor\":\"#E5ECF6\",\"polar\":{\"bgcolor\":\"#E5ECF6\",\"angularaxis\":{\"gridcolor\":\"white\",\"linecolor\":\"white\",\"ticks\":\"\"},\"radialaxis\":{\"gridcolor\":\"white\",\"linecolor\":\"white\",\"ticks\":\"\"}},\"ternary\":{\"bgcolor\":\"#E5ECF6\",\"aaxis\":{\"gridcolor\":\"white\",\"linecolor\":\"white\",\"ticks\":\"\"},\"baxis\":{\"gridcolor\":\"white\",\"linecolor\":\"white\",\"ticks\":\"\"},\"caxis\":{\"gridcolor\":\"white\",\"linecolor\":\"white\",\"ticks\":\"\"}},\"coloraxis\":{\"colorbar\":{\"outlinewidth\":0,\"ticks\":\"\"}},\"colorscale\":{\"sequential\":[[0.0,\"#0d0887\"],[0.1111111111111111,\"#46039f\"],[0.2222222222222222,\"#7201a8\"],[0.3333333333333333,\"#9c179e\"],[0.4444444444444444,\"#bd3786\"],[0.5555555555555556,\"#d8576b\"],[0.6666666666666666,\"#ed7953\"],[0.7777777777777778,\"#fb9f3a\"],[0.8888888888888888,\"#fdca26\"],[1.0,\"#f0f921\"]],\"sequentialminus\":[[0.0,\"#0d0887\"],[0.1111111111111111,\"#46039f\"],[0.2222222222222222,\"#7201a8\"],[0.3333333333333333,\"#9c179e\"],[0.4444444444444444,\"#bd3786\"],[0.5555555555555556,\"#d8576b\"],[0.6666666666666666,\"#ed7953\"],[0.7777777777777778,\"#fb9f3a\"],[0.8888888888888888,\"#fdca26\"],[1.0,\"#f0f921\"]],\"diverging\":[[0,\"#8e0152\"],[0.1,\"#c51b7d\"],[0.2,\"#de77ae\"],[0.3,\"#f1b6da\"],[0.4,\"#fde0ef\"],[0.5,\"#f7f7f7\"],[0.6,\"#e6f5d0\"],[0.7,\"#b8e186\"],[0.8,\"#7fbc41\"],[0.9,\"#4d9221\"],[1,\"#276419\"]]},\"xaxis\":{\"gridcolor\":\"white\",\"linecolor\":\"white\",\"ticks\":\"\",\"title\":{\"standoff\":15},\"zerolinecolor\":\"white\",\"automargin\":true,\"zerolinewidth\":2},\"yaxis\":{\"gridcolor\":\"white\",\"linecolor\":\"white\",\"ticks\":\"\",\"title\":{\"standoff\":15},\"zerolinecolor\":\"white\",\"automargin\":true,\"zerolinewidth\":2},\"scene\":{\"xaxis\":{\"backgroundcolor\":\"#E5ECF6\",\"gridcolor\":\"white\",\"linecolor\":\"white\",\"showbackground\":true,\"ticks\":\"\",\"zerolinecolor\":\"white\",\"gridwidth\":2},\"yaxis\":{\"backgroundcolor\":\"#E5ECF6\",\"gridcolor\":\"white\",\"linecolor\":\"white\",\"showbackground\":true,\"ticks\":\"\",\"zerolinecolor\":\"white\",\"gridwidth\":2},\"zaxis\":{\"backgroundcolor\":\"#E5ECF6\",\"gridcolor\":\"white\",\"linecolor\":\"white\",\"showbackground\":true,\"ticks\":\"\",\"zerolinecolor\":\"white\",\"gridwidth\":2}},\"shapedefaults\":{\"line\":{\"color\":\"#2a3f5f\"}},\"annotationdefaults\":{\"arrowcolor\":\"#2a3f5f\",\"arrowhead\":0,\"arrowwidth\":1},\"geo\":{\"bgcolor\":\"white\",\"landcolor\":\"#E5ECF6\",\"subunitcolor\":\"white\",\"showland\":true,\"showlakes\":true,\"lakecolor\":\"white\"},\"title\":{\"x\":0.05},\"mapbox\":{\"style\":\"light\"}}},\"geo\":{\"domain\":{\"x\":[0.0,1.0],\"y\":[0.0,1.0]},\"center\":{}},\"coloraxis\":{\"colorbar\":{\"title\":{\"text\":\"Count\"}},\"colorscale\":[[0.0,\"#440154\"],[0.1111111111111111,\"#482878\"],[0.2222222222222222,\"#3e4989\"],[0.3333333333333333,\"#31688e\"],[0.4444444444444444,\"#26828e\"],[0.5555555555555556,\"#1f9e89\"],[0.6666666666666666,\"#35b779\"],[0.7777777777777778,\"#6ece58\"],[0.8888888888888888,\"#b5de2b\"],[1.0,\"#fde725\"]]},\"legend\":{\"tracegroupgap\":0},\"title\":{\"text\":\"Geographic Distribution of IP Addresses\"}},                        {\"responsive\": true}                    ).then(function(){\n",
       "                            \n",
       "var gd = document.getElementById('f383edf9-58aa-455f-805a-274d7f41e35c');\n",
       "var x = new MutationObserver(function (mutations, observer) {{\n",
       "        var display = window.getComputedStyle(gd).display;\n",
       "        if (!display || display === 'none') {{\n",
       "            console.log([gd, 'removed!']);\n",
       "            Plotly.purge(gd);\n",
       "            observer.disconnect();\n",
       "        }}\n",
       "}});\n",
       "\n",
       "// Listen for the removal of the full notebook cells\n",
       "var notebookContainer = gd.closest('#notebook-container');\n",
       "if (notebookContainer) {{\n",
       "    x.observe(notebookContainer, {childList: true});\n",
       "}}\n",
       "\n",
       "// Listen for the clearing of the current output cell\n",
       "var outputEl = gd.closest('.output');\n",
       "if (outputEl) {{\n",
       "    x.observe(outputEl, {childList: true});\n",
       "}}\n",
       "\n",
       "                        })                };                });            </script>        </div>"
      ]
     },
     "metadata": {},
     "output_type": "display_data"
    }
   ],
   "source": [
    "import pandas as pd\n",
    "import geopandas as gpd\n",
    "import geopandas.tools\n",
    "import plotly.express as px\n",
    "\n",
    "# Load the CSV file into a DataFrame\n",
    "data = pd.read_csv('phish_score.csv')\n",
    "\n",
    "# Load the world map shapefile\n",
    "world_map = gpd.read_file(gpd.datasets.get_path('naturalearth_lowres'))\n",
    "\n",
    "# Perform geolocation analysis\n",
    "reader = geoip2.database.Reader('GeoLite2-Country.mmdb')\n",
    "\n",
    "def get_country(ip):\n",
    "    try:\n",
    "        response = reader.country(ip)\n",
    "        return response.country.name\n",
    "    except geoip2.errors.AddressNotFoundError:\n",
    "        return 'Unknown'\n",
    "\n",
    "data['Country'] = data['ip'].apply(get_country)\n",
    "reader.close()\n",
    "\n",
    "# Count the occurrence of each country\n",
    "country_counts = data['Country'].value_counts().reset_index()\n",
    "country_counts.columns = ['Country', 'Count']\n",
    "\n",
    "# Merge country counts with the world map data\n",
    "merged_data = world_map.merge(country_counts, left_on='name', right_on='Country', how='left')\n",
    "\n",
    "# Create the choropleth map\n",
    "fig = px.choropleth(merged_data, \n",
    "                    locations='name', \n",
    "                    locationmode='country names',\n",
    "                    color='Count',\n",
    "                    color_continuous_scale='Viridis',\n",
    "                    title='Geographic Distribution of IP Addresses',\n",
    "                    labels={'Count': 'Count'})\n",
    "\n",
    "# Show the choropleth map\n",
    "fig.show()"
   ]
  },
  {
   "cell_type": "markdown",
   "id": "754c823b",
   "metadata": {},
   "source": [
    "**In this updated code:**\n",
    "\n",
    "We use the **geopandas** library to load a world map shapefile using `gpd.read_file()`.\n",
    "The geolocation analysis and data merging steps remain the same as in the previous code.\n",
    "We then merge the country counts with the world map data using the `merge()` function.\n",
    "Finally, we create a choropleth map using **plotly.express** (`px.choropleth()`), specifying the merged data, the location column, the color column, and the desired color scale.\n",
    "\n",
    "When you run this code, an interactive choropleth map will be displayed, showing the geographic distribution of IP addresses. You can hover over each country to see the count of IP addresses.\n",
    "\n",
    "Please ensure that you have the necessary libraries installed (**geopandas**, **geopandas.tools**, and **plotly**) before running the code. Adjust the file paths and column names as needed to match your specific dataset."
   ]
  },
  {
   "cell_type": "markdown",
   "id": "0c4e0b9d",
   "metadata": {},
   "source": [
    "# Choropleth Map: Geographic Distribution of IP Addresses\n",
    "\n",
    "1. Start by loading the necessary libraries: `pandas`, `geopandas`, and `plotly.express`.\n",
    "2. Load the CSV file containing the IP address data into a pandas DataFrame using `pd.read_csv()`.\n",
    "3. Load a world map shapefile using `gpd.read_file()` from the `geopandas` library. The shapefile provides the boundaries and geometries of different countries.\n",
    "4. Perform geolocation analysis by iterating over the IP addresses in the DataFrame and retrieving the corresponding country using the `get_country()` function. This function uses the `geoip2` library for country lookup based on IP addresses.\n",
    "5. Calculate the counts of IP addresses for each country by performing a value count on the 'Country' column.\n",
    "6. Merge the country counts with the world map data based on the country names using the `merge()` function.\n",
    "7. Create a choropleth map using `plotly.express` by specifying the merged data, the location column ('name' in the world map), the color column ('Count' from the IP address counts), and the desired color scale.\n",
    "8. Display the choropleth map using `fig.show()`, which opens an interactive plot in the Jupyter Notebook.\n",
    "\n",
    "You can run the code in your Jupyter Notebook to generate an interactive choropleth map. The map will visually represent the geographic distribution of IP addresses, with each country color-coded based on the count of IP addresses associated with it. Hovering over a country will display the count of IP addresses.\n",
    "\n",
    "Feel free to customize the code or explore different map styling options provided by Plotly to enhance the visualization according to your preferences.\n",
    "\n",
    "Please make sure to install the required libraries (`geopandas`, `geopandas.tools`, and `plotly`) and provide the correct file paths and column names in the code to match your specific dataset."
   ]
  },
  {
   "cell_type": "markdown",
   "id": "0895a787",
   "metadata": {},
   "source": [
    "## Correlation Analysis:\n",
    "We will explore correlations between the score column and other variables such as date, URL, or IP, to determine if certain factors influence the scores"
   ]
  },
  {
   "cell_type": "code",
   "execution_count": 34,
   "id": "640313c0",
   "metadata": {},
   "outputs": [
    {
     "name": "stderr",
     "output_type": "stream",
     "text": [
      "C:\\Users\\ivy\\anaconda3\\lib\\site-packages\\sklearn\\base.py:439: UserWarning:\n",
      "\n",
      "X does not have valid feature names, but IsolationForest was fitted with feature names\n",
      "\n"
     ]
    },
    {
     "name": "stdout",
     "output_type": "stream",
     "text": [
      "Anomaly Indices:\n",
      "Int64Index([   12,    16,    81,    88,   103,   106,   108,   109,   113,\n",
      "              137,\n",
      "            ...\n",
      "            52705, 52707, 52708, 52710, 52711, 52713, 52715, 52717, 52718,\n",
      "            52720],\n",
      "           dtype='int64', length=2637)\n"
     ]
    }
   ],
   "source": [
    "import pandas as pd\n",
    "from sklearn.ensemble import IsolationForest\n",
    "\n",
    "# Load the CSV file into a DataFrame\n",
    "data = pd.read_csv('phish_score.csv')\n",
    "\n",
    "# Extract the numerical columns for anomaly detection\n",
    "score = data['Score']\n",
    "url_length = data['url'].str.len()\n",
    "ip_numeric = data['ip'].apply(lambda x: int(ipaddress.ip_address(x)))\n",
    "\n",
    "# Combine the features into a single DataFrame\n",
    "features = pd.concat([score, url_length, ip_numeric], axis=1)\n",
    "\n",
    "# Apply the Isolation Forest algorithm\n",
    "isolation_forest = IsolationForest(contamination=0.05)  # Adjust the contamination parameter as needed\n",
    "isolation_forest.fit(features)\n",
    "\n",
    "# Predict anomalies\n",
    "anomaly_predictions = isolation_forest.predict(features)\n",
    "\n",
    "# Identify the indices of anomalies\n",
    "anomaly_indices = data.index[anomaly_predictions == -1]\n",
    "\n",
    "# Print the indices of anomalies\n",
    "print(\"Anomaly Indices:\")\n",
    "print(anomaly_indices)"
   ]
  },
  {
   "cell_type": "markdown",
   "id": "bd601599",
   "metadata": {},
   "source": [
    "## Anomaly Detection\n",
    "\n",
    "To identify unusual patterns or outliers in the scores, URLs, or IP addresses, we will apply anomaly detection algorithms. In this example, we will use the Isolation Forest algorithm.\n",
    "\n",
    "1. **Loading the Data**: We start by loading the dataset from the 'phish_score.csv' file into a DataFrame.\n",
    "\n",
    "2. **Preparing the Features**: We extract the necessary columns for anomaly detection, namely the 'Score', 'url', and 'ip' columns. Additionally, we calculate the URL lengths and convert the IP addresses to their numeric representations.\n",
    "\n",
    "3. **Combining the Features**: We combine the extracted features into a single DataFrame, named 'features', by concatenating the 'Score', URL length, and IP numeric columns.\n",
    "\n",
    "4. **Applying the Isolation Forest Algorithm**: We create an instance of the Isolation Forest algorithm from the scikit-learn library, setting the 'contamination' parameter to 0.05. This parameter determines the expected proportion of anomalies in the data.\n",
    "\n",
    "5. **Fitting the Model**: We fit the Isolation Forest model to the features by calling the 'fit()' method, which learns the underlying patterns and normal behavior of the data.\n",
    "\n",
    "6. **Predicting Anomalies**: We use the trained model to predict anomalies in the features by calling the 'predict()' method. Anomalies are assigned a label of -1, while normal instances are assigned a label of 1.\n",
    "\n",
    "7. **Identifying Anomaly Indices**: We identify the indices of the anomalies by selecting the indices where the predictions are -1.\n",
    "\n",
    "8. **Printing Anomaly Indices**: Finally, we print the indices of the detected anomalies.\n",
    "\n",
    "By applying the Isolation Forest algorithm, we can detect potential anomalies or outliers in the scores, URL lengths, and IP addresses. Remember to adjust the 'contamination' parameter based on your dataset and the expected proportion of anomalies.\n"
   ]
  },
  {
   "cell_type": "markdown",
   "id": "6e34b462",
   "metadata": {},
   "source": [
    "# PhishScore Analyzer: Detecting Anomalies and Analyzing Patterns in Phishing Data\n",
    "\n",
    "## Introduction\n",
    "\n",
    "The PhishScore Analyzer project aims to analyze and gain insights from a dataset containing phishing-related information. The dataset includes columns such as date/time, score, URL, and IP address. By applying various analysis techniques, we aim to uncover trends, patterns, and anomalies in the data.\n",
    "\n",
    "## Analysis Steps\n",
    "\n",
    "1. Time-based Analysis: We explore trends and patterns over time by analyzing the date/time column. This includes plotting scores over time, calculating average scores for different time intervals, and identifying the busiest time periods.\n",
    "\n",
    "2. Score Analysis: We analyze the score column to understand the distribution of scores and calculate basic statistical measures. This involves creating histograms and box plots to visualize the score distribution and identify any outliers or unusual patterns.\n",
    "\n",
    "3. URL Analysis: We analyze the URL column to determine the most frequent URLs, categorize URLs based on patterns or keywords, and gain insights into website visits and domains.\n",
    "\n",
    "4. IP Analysis: We perform geolocation analysis on the IP addresses to identify the geographic distribution of IP addresses and gain insights into user behavior or traffic patterns.\n",
    "\n",
    "5. Anomaly Detection: We apply anomaly detection algorithms to identify any unusual patterns or outliers in the scores, URLs, or IP addresses. This helps detect unexpected deviations from the normal distribution or behavior.\n",
    "\n",
    "## Conclusion\n",
    "\n",
    "The PhishScore Analyzer project provides a comprehensive analysis of the phishing dataset, allowing us to uncover valuable insights and patterns. By examining time-based trends, score distributions, URL characteristics, IP geolocation, and anomalies, we can gain a deeper understanding of phishing activities and enhance our ability to detect and prevent phishing attempts."
   ]
  }
 ],
 "metadata": {
  "kernelspec": {
   "display_name": "Python 3 (ipykernel)",
   "language": "python",
   "name": "python3"
  },
  "language_info": {
   "codemirror_mode": {
    "name": "ipython",
    "version": 3
   },
   "file_extension": ".py",
   "mimetype": "text/x-python",
   "name": "python",
   "nbconvert_exporter": "python",
   "pygments_lexer": "ipython3",
   "version": "3.9.13"
  }
 },
 "nbformat": 4,
 "nbformat_minor": 5
}
